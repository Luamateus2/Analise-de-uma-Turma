{
 "cells": [
  {
   "cell_type": "code",
   "execution_count": 1,
   "id": "59ff5e90",
   "metadata": {},
   "outputs": [],
   "source": [
    "import pandas as pd\n",
    "import numpy as np\n",
    "import matplotlib.pyplot as plt"
   ]
  },
  {
   "cell_type": "code",
   "execution_count": 2,
   "id": "12b061f8",
   "metadata": {},
   "outputs": [],
   "source": [
    "df =  pd.read_csv(r'C:\\Users\\Lua\\Downloads\\student-scores.csv')"
   ]
  },
  {
   "cell_type": "code",
   "execution_count": 3,
   "id": "9abbc3eb",
   "metadata": {},
   "outputs": [
    {
     "data": {
      "text/plain": [
       "Index(['id', 'first_name', 'last_name', 'email', 'gender', 'part_time_job',\n",
       "       'absence_days', 'extracurricular_activities', 'weekly_self_study_hours',\n",
       "       'career_aspiration', 'math_score', 'history_score', 'physics_score',\n",
       "       'chemistry_score', 'biology_score', 'english_score', 'geography_score'],\n",
       "      dtype='object')"
      ]
     },
     "execution_count": 3,
     "metadata": {},
     "output_type": "execute_result"
    }
   ],
   "source": [
    "df.columns"
   ]
  },
  {
   "cell_type": "code",
   "execution_count": 4,
   "id": "c758a80d",
   "metadata": {},
   "outputs": [],
   "source": [
    "df.rename(columns={\n",
    "    'id': 'id',\n",
    "    'first_name':'primeiro_nome',\n",
    "    'last_name': 'ultimo_nome',\n",
    "    'email':'e-mail',\n",
    "    'gender':'genero',\n",
    "    'part_time_job':'trabalho_meio_periodo' ,\n",
    "    'absence_days':'dias_ausente' ,\n",
    "    'extracurricular_activities':'atividade_extracurricular',\n",
    "    'weekly_self_study_hours':'horas_de_estudo_semanal',\n",
    "    'career_aspiration':'aspiracao_carreira' ,\n",
    "    'math_score':'pontuacao_matematica' ,\n",
    "    'history_score':'pontuacao_historia',\n",
    "    'physics_score':'pontuacao_fisica',\n",
    "    'chemistry_score':'pontuacao_quimica',\n",
    "    'biology_score':'pontuacao_biologia',\n",
    "    'english_score':'pontuacao_ingles',\n",
    "    'geography_score':'pontuacao_geografia'\n",
    "}, inplace=True)"
   ]
  },
  {
   "cell_type": "code",
   "execution_count": 5,
   "id": "bde51f14",
   "metadata": {},
   "outputs": [
    {
     "data": {
      "text/html": [
       "<div>\n",
       "<style scoped>\n",
       "    .dataframe tbody tr th:only-of-type {\n",
       "        vertical-align: middle;\n",
       "    }\n",
       "\n",
       "    .dataframe tbody tr th {\n",
       "        vertical-align: top;\n",
       "    }\n",
       "\n",
       "    .dataframe thead th {\n",
       "        text-align: right;\n",
       "    }\n",
       "</style>\n",
       "<table border=\"1\" class=\"dataframe\">\n",
       "  <thead>\n",
       "    <tr style=\"text-align: right;\">\n",
       "      <th></th>\n",
       "      <th>id</th>\n",
       "      <th>primeiro_nome</th>\n",
       "      <th>ultimo_nome</th>\n",
       "      <th>e-mail</th>\n",
       "      <th>genero</th>\n",
       "      <th>trabalho_meio_periodo</th>\n",
       "      <th>dias_ausente</th>\n",
       "      <th>atividade_extracurricular</th>\n",
       "      <th>horas_de_estudo_semanal</th>\n",
       "      <th>aspiracao_carreira</th>\n",
       "      <th>pontuacao_matematica</th>\n",
       "      <th>pontuacao_historia</th>\n",
       "      <th>pontuacao_fisica</th>\n",
       "      <th>pontuacao_quimica</th>\n",
       "      <th>pontuacao_biologia</th>\n",
       "      <th>pontuacao_ingles</th>\n",
       "      <th>pontuacao_geografia</th>\n",
       "    </tr>\n",
       "  </thead>\n",
       "  <tbody>\n",
       "    <tr>\n",
       "      <th>0</th>\n",
       "      <td>1</td>\n",
       "      <td>Paul</td>\n",
       "      <td>Casey</td>\n",
       "      <td>paul.casey.1@gslingacademy.com</td>\n",
       "      <td>male</td>\n",
       "      <td>False</td>\n",
       "      <td>3</td>\n",
       "      <td>False</td>\n",
       "      <td>27</td>\n",
       "      <td>Lawyer</td>\n",
       "      <td>73</td>\n",
       "      <td>81</td>\n",
       "      <td>93</td>\n",
       "      <td>97</td>\n",
       "      <td>63</td>\n",
       "      <td>80</td>\n",
       "      <td>87</td>\n",
       "    </tr>\n",
       "    <tr>\n",
       "      <th>1</th>\n",
       "      <td>2</td>\n",
       "      <td>Danielle</td>\n",
       "      <td>Sandoval</td>\n",
       "      <td>danielle.sandoval.2@gslingacademy.com</td>\n",
       "      <td>female</td>\n",
       "      <td>False</td>\n",
       "      <td>2</td>\n",
       "      <td>False</td>\n",
       "      <td>47</td>\n",
       "      <td>Doctor</td>\n",
       "      <td>90</td>\n",
       "      <td>86</td>\n",
       "      <td>96</td>\n",
       "      <td>100</td>\n",
       "      <td>90</td>\n",
       "      <td>88</td>\n",
       "      <td>90</td>\n",
       "    </tr>\n",
       "    <tr>\n",
       "      <th>2</th>\n",
       "      <td>3</td>\n",
       "      <td>Tina</td>\n",
       "      <td>Andrews</td>\n",
       "      <td>tina.andrews.3@gslingacademy.com</td>\n",
       "      <td>female</td>\n",
       "      <td>False</td>\n",
       "      <td>9</td>\n",
       "      <td>True</td>\n",
       "      <td>13</td>\n",
       "      <td>Government Officer</td>\n",
       "      <td>81</td>\n",
       "      <td>97</td>\n",
       "      <td>95</td>\n",
       "      <td>96</td>\n",
       "      <td>65</td>\n",
       "      <td>77</td>\n",
       "      <td>94</td>\n",
       "    </tr>\n",
       "    <tr>\n",
       "      <th>3</th>\n",
       "      <td>4</td>\n",
       "      <td>Tara</td>\n",
       "      <td>Clark</td>\n",
       "      <td>tara.clark.4@gslingacademy.com</td>\n",
       "      <td>female</td>\n",
       "      <td>False</td>\n",
       "      <td>5</td>\n",
       "      <td>False</td>\n",
       "      <td>3</td>\n",
       "      <td>Artist</td>\n",
       "      <td>71</td>\n",
       "      <td>74</td>\n",
       "      <td>88</td>\n",
       "      <td>80</td>\n",
       "      <td>89</td>\n",
       "      <td>63</td>\n",
       "      <td>86</td>\n",
       "    </tr>\n",
       "    <tr>\n",
       "      <th>4</th>\n",
       "      <td>5</td>\n",
       "      <td>Anthony</td>\n",
       "      <td>Campos</td>\n",
       "      <td>anthony.campos.5@gslingacademy.com</td>\n",
       "      <td>male</td>\n",
       "      <td>False</td>\n",
       "      <td>5</td>\n",
       "      <td>False</td>\n",
       "      <td>10</td>\n",
       "      <td>Unknown</td>\n",
       "      <td>84</td>\n",
       "      <td>77</td>\n",
       "      <td>65</td>\n",
       "      <td>65</td>\n",
       "      <td>80</td>\n",
       "      <td>74</td>\n",
       "      <td>76</td>\n",
       "    </tr>\n",
       "    <tr>\n",
       "      <th>...</th>\n",
       "      <td>...</td>\n",
       "      <td>...</td>\n",
       "      <td>...</td>\n",
       "      <td>...</td>\n",
       "      <td>...</td>\n",
       "      <td>...</td>\n",
       "      <td>...</td>\n",
       "      <td>...</td>\n",
       "      <td>...</td>\n",
       "      <td>...</td>\n",
       "      <td>...</td>\n",
       "      <td>...</td>\n",
       "      <td>...</td>\n",
       "      <td>...</td>\n",
       "      <td>...</td>\n",
       "      <td>...</td>\n",
       "      <td>...</td>\n",
       "    </tr>\n",
       "    <tr>\n",
       "      <th>1995</th>\n",
       "      <td>1996</td>\n",
       "      <td>Alan</td>\n",
       "      <td>Reynolds</td>\n",
       "      <td>alan.reynolds.1996@gslingacademy.com</td>\n",
       "      <td>male</td>\n",
       "      <td>False</td>\n",
       "      <td>2</td>\n",
       "      <td>False</td>\n",
       "      <td>30</td>\n",
       "      <td>Construction Engineer</td>\n",
       "      <td>83</td>\n",
       "      <td>77</td>\n",
       "      <td>84</td>\n",
       "      <td>73</td>\n",
       "      <td>75</td>\n",
       "      <td>84</td>\n",
       "      <td>82</td>\n",
       "    </tr>\n",
       "    <tr>\n",
       "      <th>1996</th>\n",
       "      <td>1997</td>\n",
       "      <td>Thomas</td>\n",
       "      <td>Gilbert</td>\n",
       "      <td>thomas.gilbert.1997@gslingacademy.com</td>\n",
       "      <td>male</td>\n",
       "      <td>False</td>\n",
       "      <td>2</td>\n",
       "      <td>False</td>\n",
       "      <td>20</td>\n",
       "      <td>Software Engineer</td>\n",
       "      <td>89</td>\n",
       "      <td>65</td>\n",
       "      <td>73</td>\n",
       "      <td>80</td>\n",
       "      <td>87</td>\n",
       "      <td>67</td>\n",
       "      <td>73</td>\n",
       "    </tr>\n",
       "    <tr>\n",
       "      <th>1997</th>\n",
       "      <td>1998</td>\n",
       "      <td>Madison</td>\n",
       "      <td>Cross</td>\n",
       "      <td>madison.cross.1998@gslingacademy.com</td>\n",
       "      <td>female</td>\n",
       "      <td>False</td>\n",
       "      <td>5</td>\n",
       "      <td>False</td>\n",
       "      <td>14</td>\n",
       "      <td>Software Engineer</td>\n",
       "      <td>97</td>\n",
       "      <td>85</td>\n",
       "      <td>63</td>\n",
       "      <td>93</td>\n",
       "      <td>68</td>\n",
       "      <td>94</td>\n",
       "      <td>78</td>\n",
       "    </tr>\n",
       "    <tr>\n",
       "      <th>1998</th>\n",
       "      <td>1999</td>\n",
       "      <td>Brittany</td>\n",
       "      <td>Compton</td>\n",
       "      <td>brittany.compton.1999@gslingacademy.com</td>\n",
       "      <td>female</td>\n",
       "      <td>True</td>\n",
       "      <td>10</td>\n",
       "      <td>True</td>\n",
       "      <td>5</td>\n",
       "      <td>Business Owner</td>\n",
       "      <td>51</td>\n",
       "      <td>96</td>\n",
       "      <td>72</td>\n",
       "      <td>89</td>\n",
       "      <td>95</td>\n",
       "      <td>88</td>\n",
       "      <td>75</td>\n",
       "    </tr>\n",
       "    <tr>\n",
       "      <th>1999</th>\n",
       "      <td>2000</td>\n",
       "      <td>Natalie</td>\n",
       "      <td>Smith</td>\n",
       "      <td>natalie.smith.2000@gslingacademy.com</td>\n",
       "      <td>female</td>\n",
       "      <td>False</td>\n",
       "      <td>5</td>\n",
       "      <td>False</td>\n",
       "      <td>27</td>\n",
       "      <td>Accountant</td>\n",
       "      <td>82</td>\n",
       "      <td>99</td>\n",
       "      <td>91</td>\n",
       "      <td>69</td>\n",
       "      <td>83</td>\n",
       "      <td>93</td>\n",
       "      <td>100</td>\n",
       "    </tr>\n",
       "  </tbody>\n",
       "</table>\n",
       "<p>2000 rows × 17 columns</p>\n",
       "</div>"
      ],
      "text/plain": [
       "        id primeiro_nome ultimo_nome                                   e-mail  \\\n",
       "0        1          Paul       Casey           paul.casey.1@gslingacademy.com   \n",
       "1        2      Danielle    Sandoval    danielle.sandoval.2@gslingacademy.com   \n",
       "2        3          Tina     Andrews         tina.andrews.3@gslingacademy.com   \n",
       "3        4          Tara       Clark           tara.clark.4@gslingacademy.com   \n",
       "4        5       Anthony      Campos       anthony.campos.5@gslingacademy.com   \n",
       "...    ...           ...         ...                                      ...   \n",
       "1995  1996          Alan    Reynolds     alan.reynolds.1996@gslingacademy.com   \n",
       "1996  1997        Thomas     Gilbert    thomas.gilbert.1997@gslingacademy.com   \n",
       "1997  1998       Madison       Cross     madison.cross.1998@gslingacademy.com   \n",
       "1998  1999      Brittany     Compton  brittany.compton.1999@gslingacademy.com   \n",
       "1999  2000       Natalie       Smith     natalie.smith.2000@gslingacademy.com   \n",
       "\n",
       "      genero  trabalho_meio_periodo  dias_ausente  atividade_extracurricular  \\\n",
       "0       male                  False             3                      False   \n",
       "1     female                  False             2                      False   \n",
       "2     female                  False             9                       True   \n",
       "3     female                  False             5                      False   \n",
       "4       male                  False             5                      False   \n",
       "...      ...                    ...           ...                        ...   \n",
       "1995    male                  False             2                      False   \n",
       "1996    male                  False             2                      False   \n",
       "1997  female                  False             5                      False   \n",
       "1998  female                   True            10                       True   \n",
       "1999  female                  False             5                      False   \n",
       "\n",
       "      horas_de_estudo_semanal     aspiracao_carreira  pontuacao_matematica  \\\n",
       "0                          27                 Lawyer                    73   \n",
       "1                          47                 Doctor                    90   \n",
       "2                          13     Government Officer                    81   \n",
       "3                           3                 Artist                    71   \n",
       "4                          10                Unknown                    84   \n",
       "...                       ...                    ...                   ...   \n",
       "1995                       30  Construction Engineer                    83   \n",
       "1996                       20      Software Engineer                    89   \n",
       "1997                       14      Software Engineer                    97   \n",
       "1998                        5         Business Owner                    51   \n",
       "1999                       27             Accountant                    82   \n",
       "\n",
       "      pontuacao_historia  pontuacao_fisica  pontuacao_quimica  \\\n",
       "0                     81                93                 97   \n",
       "1                     86                96                100   \n",
       "2                     97                95                 96   \n",
       "3                     74                88                 80   \n",
       "4                     77                65                 65   \n",
       "...                  ...               ...                ...   \n",
       "1995                  77                84                 73   \n",
       "1996                  65                73                 80   \n",
       "1997                  85                63                 93   \n",
       "1998                  96                72                 89   \n",
       "1999                  99                91                 69   \n",
       "\n",
       "      pontuacao_biologia  pontuacao_ingles  pontuacao_geografia  \n",
       "0                     63                80                   87  \n",
       "1                     90                88                   90  \n",
       "2                     65                77                   94  \n",
       "3                     89                63                   86  \n",
       "4                     80                74                   76  \n",
       "...                  ...               ...                  ...  \n",
       "1995                  75                84                   82  \n",
       "1996                  87                67                   73  \n",
       "1997                  68                94                   78  \n",
       "1998                  95                88                   75  \n",
       "1999                  83                93                  100  \n",
       "\n",
       "[2000 rows x 17 columns]"
      ]
     },
     "execution_count": 5,
     "metadata": {},
     "output_type": "execute_result"
    }
   ],
   "source": [
    "df\n"
   ]
  },
  {
   "cell_type": "code",
   "execution_count": 6,
   "id": "5e12c749",
   "metadata": {},
   "outputs": [
    {
     "data": {
      "text/plain": [
       "False"
      ]
     },
     "execution_count": 6,
     "metadata": {},
     "output_type": "execute_result"
    }
   ],
   "source": [
    "df.isnull().any().any()"
   ]
  },
  {
   "cell_type": "code",
   "execution_count": null,
   "id": "711c4fa1",
   "metadata": {},
   "outputs": [],
   "source": []
  },
  {
   "cell_type": "code",
   "execution_count": 40,
   "id": "a96914a9",
   "metadata": {},
   "outputs": [
    {
     "data": {
      "text/html": [
       "<div>\n",
       "<style scoped>\n",
       "    .dataframe tbody tr th:only-of-type {\n",
       "        vertical-align: middle;\n",
       "    }\n",
       "\n",
       "    .dataframe tbody tr th {\n",
       "        vertical-align: top;\n",
       "    }\n",
       "\n",
       "    .dataframe thead th {\n",
       "        text-align: right;\n",
       "    }\n",
       "</style>\n",
       "<table border=\"1\" class=\"dataframe\">\n",
       "  <thead>\n",
       "    <tr style=\"text-align: right;\">\n",
       "      <th></th>\n",
       "      <th>qt_alunos_fem</th>\n",
       "      <th>qt_alunos_masc</th>\n",
       "    </tr>\n",
       "  </thead>\n",
       "  <tbody>\n",
       "    <tr>\n",
       "      <th>0</th>\n",
       "      <td>1002</td>\n",
       "      <td>998</td>\n",
       "    </tr>\n",
       "  </tbody>\n",
       "</table>\n",
       "</div>"
      ],
      "text/plain": [
       "   qt_alunos_fem  qt_alunos_masc\n",
       "0           1002             998"
      ]
     },
     "execution_count": 40,
     "metadata": {},
     "output_type": "execute_result"
    }
   ],
   "source": [
    "qt_alunos_fem= df[df['genero'] =='female'].shape[0]\n",
    "qt_alunos_masc =df[df['genero'] =='male'].shape[0]\n",
    "dados_genero ={'qt_alunos_fem':[qt_alunos_fem],\n",
    "               'qt_alunos_masc':[qt_alunos_masc]\n",
    "              }\n",
    "turma_genero = pd.DataFrame(dados_genero,columns=['qt_alunos_fem','qt_alunos_masc'])\n",
    "turma_genero"
   ]
  },
  {
   "cell_type": "code",
   "execution_count": null,
   "id": "b3f5a43f",
   "metadata": {},
   "outputs": [],
   "source": [
    "#Trabalhando com as COlunas primeiro e último nome"
   ]
  },
  {
   "cell_type": "code",
   "execution_count": 221,
   "id": "855d4ce7",
   "metadata": {},
   "outputs": [
    {
     "data": {
      "text/plain": [
       "'Aaron'"
      ]
     },
     "execution_count": 221,
     "metadata": {},
     "output_type": "execute_result"
    }
   ],
   "source": [
    "df['primeiro_nome'].unique().max()\n",
    "df['ultimo_nome'].unique().max()\n",
    "df['ultimo_nome'].unique().min()\n",
    "df['primeiro_nome'].unique().min()"
   ]
  },
  {
   "cell_type": "code",
   "execution_count": null,
   "id": "50289534",
   "metadata": {},
   "outputs": [],
   "source": [
    "#Trabalhando com a Coluna Trabalho Meio Período"
   ]
  },
  {
   "cell_type": "code",
   "execution_count": 64,
   "id": "cf44a4d0",
   "metadata": {},
   "outputs": [
    {
     "data": {
      "text/html": [
       "<div>\n",
       "<style scoped>\n",
       "    .dataframe tbody tr th:only-of-type {\n",
       "        vertical-align: middle;\n",
       "    }\n",
       "\n",
       "    .dataframe tbody tr th {\n",
       "        vertical-align: top;\n",
       "    }\n",
       "\n",
       "    .dataframe thead th {\n",
       "        text-align: right;\n",
       "    }\n",
       "</style>\n",
       "<table border=\"1\" class=\"dataframe\">\n",
       "  <thead>\n",
       "    <tr style=\"text-align: right;\">\n",
       "      <th></th>\n",
       "      <th>nao_trabalha</th>\n",
       "      <th>trabalha</th>\n",
       "    </tr>\n",
       "  </thead>\n",
       "  <tbody>\n",
       "    <tr>\n",
       "      <th>0</th>\n",
       "      <td>1684</td>\n",
       "      <td>316</td>\n",
       "    </tr>\n",
       "  </tbody>\n",
       "</table>\n",
       "</div>"
      ],
      "text/plain": [
       "   nao_trabalha  trabalha\n",
       "0          1684       316"
      ]
     },
     "execution_count": 64,
     "metadata": {},
     "output_type": "execute_result"
    }
   ],
   "source": [
    "qt_n_trabalha = df[df['trabalho_meio_periodo'] ==False].shape[0]\n",
    "qt_s_trabalha = df[df['trabalho_meio_periodo'] ==True].shape[0]\n",
    "qt_trabalho ={\n",
    "    'nao_trabalha':[qt_n_trabalha],\n",
    "    'trabalha':[qt_s_trabalha]\n",
    "}\n",
    "quant_trabalho = pd.DataFrame(qt_trabalho,columns=['nao_trabalha','trabalha'])\n",
    "quant_trabalho"
   ]
  },
  {
   "cell_type": "code",
   "execution_count": 69,
   "id": "61c74369",
   "metadata": {},
   "outputs": [
    {
     "data": {
      "text/html": [
       "<div>\n",
       "<style scoped>\n",
       "    .dataframe tbody tr th:only-of-type {\n",
       "        vertical-align: middle;\n",
       "    }\n",
       "\n",
       "    .dataframe tbody tr th {\n",
       "        vertical-align: top;\n",
       "    }\n",
       "\n",
       "    .dataframe thead th {\n",
       "        text-align: right;\n",
       "    }\n",
       "</style>\n",
       "<table border=\"1\" class=\"dataframe\">\n",
       "  <thead>\n",
       "    <tr style=\"text-align: right;\">\n",
       "      <th></th>\n",
       "      <th>Trabalho_Feminino</th>\n",
       "      <th>Trabalho_Masculino</th>\n",
       "    </tr>\n",
       "  </thead>\n",
       "  <tbody>\n",
       "    <tr>\n",
       "      <th>0</th>\n",
       "      <td>167</td>\n",
       "      <td>149</td>\n",
       "    </tr>\n",
       "  </tbody>\n",
       "</table>\n",
       "</div>"
      ],
      "text/plain": [
       "   Trabalho_Feminino  Trabalho_Masculino\n",
       "0                167                 149"
      ]
     },
     "execution_count": 69,
     "metadata": {},
     "output_type": "execute_result"
    }
   ],
   "source": [
    "df_trabalho_f = df[(df['trabalho_meio_periodo'] == True) & (df['genero'] == 'female')].shape[0]\n",
    "df_trabalho_m = df[(df['trabalho_meio_periodo'] == True) & (df['genero'] == 'male')].shape[0]\n",
    "trabalho_por_genero={\n",
    "    'Trabalho_Feminino':[df_trabalho_f],\n",
    "    'Trabalho_Masculino':[df_trabalho_m]\n",
    "}\n",
    "trabalho_por_genero_df = pd.DataFrame(trabalho_por_genero,columns=['Trabalho_Feminino','Trabalho_Masculino'])\n",
    "trabalho_por_genero_df"
   ]
  },
  {
   "cell_type": "code",
   "execution_count": null,
   "id": "24b093e6",
   "metadata": {},
   "outputs": [],
   "source": [
    "#Trabalhando com a Coluna Ausência"
   ]
  },
  {
   "cell_type": "code",
   "execution_count": 143,
   "id": "9957e6fe",
   "metadata": {},
   "outputs": [],
   "source": [
    "ausencia_max = df[df['dias_ausente'] == df['dias_ausente'].max()].iloc[0]\n"
   ]
  },
  {
   "cell_type": "code",
   "execution_count": null,
   "id": "5c1dfd53",
   "metadata": {},
   "outputs": [],
   "source": [
    "#Trabalhando com a Coluna Pratica atividade"
   ]
  },
  {
   "cell_type": "code",
   "execution_count": 154,
   "id": "90751a97",
   "metadata": {},
   "outputs": [
    {
     "data": {
      "text/plain": [
       "62"
      ]
     },
     "execution_count": 154,
     "metadata": {},
     "output_type": "execute_result"
    }
   ],
   "source": [
    "pratica_atividade=df[df['atividade_extracurricular']==False].shape[0]\n",
    "n_pratica_atividade =df[df['atividade_extracurricular']==True].shape[0]\n",
    "atividade_e_trabalho = df[(df['atividade_extracurricular']==True)& (df['trabalho_meio_periodo']==True)].shape[0]"
   ]
  },
  {
   "cell_type": "code",
   "execution_count": null,
   "id": "c5aa7740",
   "metadata": {},
   "outputs": [],
   "source": [
    "df[(df['trabalho_meio_periodo'] == True) & (df['genero'] == 'female')]"
   ]
  },
  {
   "cell_type": "code",
   "execution_count": 80,
   "id": "7532bdbd",
   "metadata": {},
   "outputs": [
    {
     "data": {
      "text/plain": [
       "17.76"
      ]
     },
     "execution_count": 80,
     "metadata": {},
     "output_type": "execute_result"
    }
   ],
   "source": [
    "media_estudo= round(df['horas_de_estudo_semanal'].mean(),2)\n",
    "media_estudo"
   ]
  },
  {
   "cell_type": "code",
   "execution_count": null,
   "id": "514fddfb",
   "metadata": {},
   "outputs": [],
   "source": [
    "#Trabalhando com a Coluna Estudo Semanal"
   ]
  },
  {
   "cell_type": "code",
   "execution_count": 79,
   "id": "02e563f4",
   "metadata": {},
   "outputs": [
    {
     "data": {
      "text/html": [
       "<div>\n",
       "<style scoped>\n",
       "    .dataframe tbody tr th:only-of-type {\n",
       "        vertical-align: middle;\n",
       "    }\n",
       "\n",
       "    .dataframe tbody tr th {\n",
       "        vertical-align: top;\n",
       "    }\n",
       "\n",
       "    .dataframe thead th {\n",
       "        text-align: right;\n",
       "    }\n",
       "</style>\n",
       "<table border=\"1\" class=\"dataframe\">\n",
       "  <thead>\n",
       "    <tr style=\"text-align: right;\">\n",
       "      <th></th>\n",
       "      <th>Feminino</th>\n",
       "      <th>Masculino</th>\n",
       "    </tr>\n",
       "  </thead>\n",
       "  <tbody>\n",
       "    <tr>\n",
       "      <th>0</th>\n",
       "      <td>16.82</td>\n",
       "      <td>18.69</td>\n",
       "    </tr>\n",
       "  </tbody>\n",
       "</table>\n",
       "</div>"
      ],
      "text/plain": [
       "   Feminino  Masculino\n",
       "0     16.82      18.69"
      ]
     },
     "execution_count": 79,
     "metadata": {},
     "output_type": "execute_result"
    }
   ],
   "source": [
    "media_estudo_fem = round(df[df['genero']=='female']['horas_de_estudo_semanal'].mean(),2)\n",
    "media_estudo_masc = round(df[df['genero']=='male']['horas_de_estudo_semanal'].mean(),2)\n",
    "media_estudo_fem\n",
    "media_estudo_genero ={\n",
    "    'Feminino':[media_estudo_fem],\n",
    "     'Masculino':[media_estudo_masc]\n",
    "}\n",
    "media_estudo_genero_df = pd.DataFrame(media_estudo_genero,columns=['Feminino','Masculino'])\n",
    "media_estudo_genero_df\n"
   ]
  },
  {
   "cell_type": "code",
   "execution_count": 10,
   "id": "24bbc0d0",
   "metadata": {},
   "outputs": [],
   "source": [
    "estudo_inferior=df[df['horas_de_estudo_semanal']<media_estudo].shape[0]\n",
    "estudo_superior =df[df['horas_de_estudo_semanal']>media_estudo].shape[0]"
   ]
  },
  {
   "cell_type": "code",
   "execution_count": 11,
   "id": "65328f7c",
   "metadata": {},
   "outputs": [
    {
     "name": "stdout",
     "output_type": "stream",
     "text": [
      "{'estudo_acima_fem': [467], 'estudo_abaixo_fem': [535], 'estudo_acima_mas': [550], 'estudo_abaixo_mas': [448]}\n"
     ]
    }
   ],
   "source": [
    "estudo_acima_fem = df[(df['horas_de_estudo_semanal'] > media_estudo) & (df['genero'] == 'female')].shape[0]\n",
    "estudo_abaixo_fem= df[(df['horas_de_estudo_semanal'] < media_estudo) & (df['genero'] == 'female')].shape[0]\n",
    "estudo_acima_mas = df[(df['horas_de_estudo_semanal'] > media_estudo) & (df['genero'] == 'male')].shape[0]\n",
    "estudo_abaixo_mas= df[(df['horas_de_estudo_semanal'] < media_estudo) & (df['genero'] == 'male')].shape[0]\n",
    "data = {'estudo_acima_fem': [estudo_acima_fem],\n",
    "        'estudo_abaixo_fem':[estudo_abaixo_fem],\n",
    "        'estudo_acima_mas': [estudo_acima_mas],\n",
    "        'estudo_abaixo_mas':[estudo_abaixo_mas]\n",
    "  }\n",
    "print(data)"
   ]
  },
  {
   "cell_type": "code",
   "execution_count": 12,
   "id": "f3a0e737",
   "metadata": {},
   "outputs": [],
   "source": [
    "estudo_comparativo_df= pd.DataFrame(data,columns=['estudo_acima_fem','estudo_abaixo_fem','estudo_acima_mas','estudo_abaixo_mas'])"
   ]
  },
  {
   "cell_type": "code",
   "execution_count": null,
   "id": "8b1d0e7a",
   "metadata": {},
   "outputs": [],
   "source": [
    "#Trabalhando com a Coluna Aspiração de Carreira"
   ]
  },
  {
   "cell_type": "code",
   "execution_count": 211,
   "id": "234fe93f",
   "metadata": {},
   "outputs": [],
   "source": [
    "carreira_mais_escolhida=df['aspiracao_carreira'].unique().min()\n",
    "carreira_menos_escolhida=df['aspiracao_carreira'].unique().max()\n"
   ]
  },
  {
   "cell_type": "code",
   "execution_count": null,
   "id": "f9129092",
   "metadata": {},
   "outputs": [],
   "source": [
    "#Trabalhando com as Colunas das Notas"
   ]
  },
  {
   "cell_type": "code",
   "execution_count": 177,
   "id": "250a19e6",
   "metadata": {},
   "outputs": [
    {
     "data": {
      "text/plain": [
       "80.89"
      ]
     },
     "execution_count": 177,
     "metadata": {},
     "output_type": "execute_result"
    }
   ],
   "source": [
    "maximo_matematica=round(df['pontuacao_matematica'].max(),2)\n",
    "minimo_matematica=round(df['pontuacao_matematica'].min(),2)\n",
    "media_matematica=round(df['pontuacao_matematica'].mean(),2)\n",
    "\n",
    "maximo_historia=round(df['pontuacao_historia'].max(),2)\n",
    "minimo_historia=round(df['pontuacao_historia'].min(),2)\n",
    "media_historia=round(df['pontuacao_historia'].mean(),2)\n",
    "\n",
    "maximo_fisica=round(df['pontuacao_fisica'].max(),2)\n",
    "minimo_fisica=round(df['pontuacao_fisica'].min(),2)\n",
    "media_fisica=round(df['pontuacao_fisica'].mean(),2)\n",
    "\n",
    "maximo_quimica=round(df['pontuacao_quimica'].max(),2)\n",
    "minimo_quimica=round(df['pontuacao_quimica'].min(),2)\n",
    "media_quimica=round(df['pontuacao_quimica'].mean(),2)\n",
    "\n",
    "\n",
    "maximo_biologia=round(df['pontuacao_biologia'].max(),2)\n",
    "minimo_biologia=round(df['pontuacao_biologia'].min(),2)\n",
    "media_biologia=round(df['pontuacao_biologia'].mean(),2)\n",
    "\n",
    "maximo_ingles=round(df['pontuacao_ingles'].max(),2)\n",
    "minimo_ingles=round(df['pontuacao_ingles'].min(),2)\n",
    "media_ingles=round(df['pontuacao_ingles'].mean(),2)\n",
    "\n",
    "maximo_geografia=round(df['pontuacao_geografia'].max(),2)\n",
    "minimo_geografia=round(df['pontuacao_geografia'].min(),2)\n",
    "media_geografia=round(df['pontuacao_geografia'].mean(),2)\n",
    "\n",
    "media_geografia\n"
   ]
  },
  {
   "cell_type": "code",
   "execution_count": 99,
   "id": "94afaaad",
   "metadata": {},
   "outputs": [],
   "source": [
    "max_nota = {\n",
    "    'matematica':[maximo_matematica],\n",
    "    'historia':[maximo_historia],\n",
    "    'fisica':[maximo_fisica],\n",
    "    'quimica':[maximo_quimica],\n",
    "    'biologia':[maximo_biologia],\n",
    "    'ingles':[maximo_ingles],\n",
    "    'geografia':[maximo_geografia]\n",
    "}\n",
    "min_nota= {\n",
    "    'matematica':[minimo_matematica],\n",
    "    'historia':[minimo_historia],\n",
    "    'fisica':[minimo_fisica],\n",
    "    'quimica':[minimo_quimica],\n",
    "    'biologia':[minimo_biologia],\n",
    "    'ingles':[minimo_ingles],\n",
    "    'geografia':[minimo_geografia]\n",
    "}\n",
    "media_materia = {\n",
    "    'matematica':[media_matematica],\n",
    "    'historia':[media_historia],\n",
    "    'fisica':[media_fisica],\n",
    "    'quimica':[media_quimica],\n",
    "    'biologia':[media_biologia],\n",
    "    'ingles':[media_ingles],\n",
    "    'geografia':[media_geografia]\n",
    "}"
   ]
  },
  {
   "cell_type": "code",
   "execution_count": 111,
   "id": "68f48c69",
   "metadata": {},
   "outputs": [],
   "source": [
    "max_nota_df = pd.DataFrame(max_nota ,columns=['matematica','historia','fisica','quimica','biologia', 'ingles','geografia'])\n",
    "min_nota_df = pd.DataFrame(min_nota,columns=['matematica','historia','fisica','quimica','biologia', 'ingles','geografia'])\n",
    "media_materia_df = pd.DataFrame(media_materia,columns=['matematica','historia','fisica','quimica','biologia', 'ingles','geografia'])"
   ]
  },
  {
   "cell_type": "code",
   "execution_count": 197,
   "id": "154296f2",
   "metadata": {},
   "outputs": [],
   "source": [
    "df['media_notas'] = df[['pontuacao_matematica', 'pontuacao_historia', 'pontuacao_fisica', 'pontuacao_quimica', 'pontuacao_biologia', 'pontuacao_ingles', 'pontuacao_geografia']].mean(axis=1)\n",
    "melhor_aluno_nt=df[df['media_notas'] == df['media_notas'].max()]\n",
    "\n",
    "df['media_notas'] = df[['pontuacao_matematica', 'pontuacao_historia', 'pontuacao_fisica', 'pontuacao_quimica', 'pontuacao_biologia', 'pontuacao_ingles', 'pontuacao_geografia']].mean(axis=1)\n",
    "pior_aluno_nt = df[df['media_notas'] == df['media_notas'].min()]\n"
   ]
  },
  {
   "cell_type": "code",
   "execution_count": 14,
   "id": "94d01d4a",
   "metadata": {},
   "outputs": [],
   "source": [
    "#Graficos "
   ]
  },
  {
   "cell_type": "code",
   "execution_count": 15,
   "id": "985b618a",
   "metadata": {},
   "outputs": [
    {
     "data": {
      "image/png": "[encoded data removed]",
      "text/plain": [
       "<Figure size 800x800 with 1 Axes>"
      ]
     },
     "metadata": {},
     "output_type": "display_data"
    }
   ],
   "source": [
    "labels = ['Feminino', 'Masculino']\n",
    "sizes = [turma_genero_df['qt_alunos_fem'].iloc[0],\n",
    "        turma_genero_df['qt_alunos_masc'].iloc[0]]\n",
    "\n",
    "plt.figure(figsize=(8, 8))\n",
    "plt.pie(sizes, labels=labels, autopct='%1.1f%%', shadow=True, startangle=140)\n",
    "plt.title('Gênero da Turma')\n",
    "\n",
    "plt.show()"
   ]
  },
  {
   "cell_type": "code",
   "execution_count": 16,
   "id": "e1873d82",
   "metadata": {},
   "outputs": [
    {
     "data": {
      "image/png": "[encoded data removed]",
      "text/plain": [
       "<Figure size 800x800 with 1 Axes>"
      ]
     },
     "metadata": {},
     "output_type": "display_data"
    }
   ],
   "source": [
    "labels = ['Estudo Acima Feminino', 'Estudo Abaixo Feminino', 'Estudo Acima Masculino', 'Estudo Abaixo Masculino']\n",
    "sizes = [estudo_comparativo_df['estudo_acima_fem'].iloc[0], estudo_comparativo_df['estudo_abaixo_fem'].iloc[0],\n",
    "         estudo_comparativo_df['estudo_acima_mas'].iloc[0], estudo_comparativo_df['estudo_abaixo_mas'].iloc[0]]\n",
    "\n",
    "plt.figure(figsize=(8, 8))\n",
    "plt.pie(sizes, labels=labels, autopct='%1.1f%%', shadow=True, startangle=140)\n",
    "plt.title('Comparação do Tempo de Estudo por Gênero')\n",
    "\n",
    "plt.show()"
   ]
  },
  {
   "cell_type": "code",
   "execution_count": 121,
   "id": "577d5790",
   "metadata": {},
   "outputs": [
    {
     "data": {
      "image/png": "[encoded data removed]",
      "text/plain": [
       "<Figure size 640x480 with 1 Axes>"
      ]
     },
     "metadata": {},
     "output_type": "display_data"
    },
    {
     "data": {
      "image/png": "[encoded data removed]",
      "text/plain": [
       "<Figure size 640x480 with 1 Axes>"
      ]
     },
     "metadata": {},
     "output_type": "display_data"
    },
    {
     "data": {
      "image/png": "[encoded data removed]",
      "text/plain": [
       "<Figure size 640x480 with 1 Axes>"
      ]
     },
     "metadata": {},
     "output_type": "display_data"
    }
   ],
   "source": [
    "max_nota_df.plot(kind='bar',width= 2.0,align='center')\n",
    "plt.title('Notas Máximas por Disciplina')\n",
    "plt.xlabel('Disciplinas')\n",
    "plt.ylabel('Nota Máxima')\n",
    "\n",
    "# Exibir o gráfico\n",
    "plt.show()\n",
    "\n",
    "min_nota_df.plot(kind='bar',width= 2.0,align='center')\n",
    "plt.title('Notas Minimas por Disciplina')\n",
    "plt.xlabel('Disciplinas')\n",
    "plt.ylabel('Nota Minima')\n",
    "\n",
    "# Exibir o gráfico\n",
    "plt.show()\n",
    "\n",
    "media_materia_df.plot(kind='bar',width= 2.0,align='center')\n",
    "plt.title('Media por Disciplina')\n",
    "plt.xlabel('Disciplinas')\n",
    "plt.ylabel('Nota')\n",
    "\n",
    "# Exibir o gráfico\n",
    "plt.show()\n",
    "\n"
   ]
  }
 ],
 "metadata": {
  "kernelspec": {
   "display_name": "Python 3 (ipykernel)",
   "language": "python",
   "name": "python3"
  },
  "language_info": {
   "codemirror_mode": {
    "name": "ipython",
    "version": 3
   },
   "file_extension": ".py",
   "mimetype": "text/x-python",
   "name": "python",
   "nbconvert_exporter": "python",
   "pygments_lexer": "ipython3",
   "version": "3.11.7"
  }
 },
 "nbformat": 4,
 "nbformat_minor": 5
}
